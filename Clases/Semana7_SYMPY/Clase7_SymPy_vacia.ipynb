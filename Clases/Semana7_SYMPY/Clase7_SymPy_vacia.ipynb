{
 "cells": [
  {
   "cell_type": "markdown",
   "metadata": {
    "colab_type": "text",
    "id": "view-in-github"
   },
   "source": [
    "<a href=\"https://colab.research.google.com/github/lsantiago/PythonIntermedio/blob/master/Clases/Semana7_SYMPY/Clase7_SymPy_vacia.ipynb\" target=\"_parent\"><img src=\"https://colab.research.google.com/assets/colab-badge.svg\" alt=\"Open In Colab\"/></a>"
   ]
  },
  {
   "cell_type": "markdown",
   "metadata": {
    "id": "dZ0yHuX0kpTN"
   },
   "source": [
    "# CLASE 7: SymPy"
   ]
  },
  {
   "cell_type": "markdown",
   "metadata": {
    "id": "-KMGZUTMkpTN"
   },
   "source": [
    "![](http://sympy.org/static/images/logo.png)\n",
    "\n",
    "_ __SymPy es una biblioteca de Python para matemática simbólica__. Apunta a convertirse en un sistema de algebra computacional (__CAS__) con todas sus prestaciones manteniendo el código tan simple como sea posible para manterlo comprensible y fácilmente extensible. SymPy está __escrito totalmente en Python y no requiere bibliotecas adicionales__. _Este proyecto comenzó en 2005, fue lanzado al público en 2007 y a él han contribuido durante estos años cientos de personas._\n",
    "\n",
    "_ Otros CAS conocidos son Mathematica y Maple, sin embargo ambos son software privativo y de pago. [Aquí](https://github.com/sympy/sympy/wiki/SymPy-vs.-Maple) puedes encontrar una comparativa de SymPy con Maple. _\n",
    "\n",
    "Hoy veremos cómo:\n",
    "\n",
    "* Crear símbolos y expresiones.\n",
    "* Manipular expresiones (simplificación, expansión...)\n",
    "* Calcular derivadas e integrales.\n",
    "* Límites y desarrollos en serie.\n",
    "* Resolución de ecuaciones.\n",
    "* Resolción de EDOs.\n",
    "* Matrices\n",
    "\n",
    "Sin embargo, SymPy no acaba aquí ni mucho menos..."
   ]
  },
  {
   "cell_type": "markdown",
   "metadata": {
    "id": "IBfXEUxUkpTN"
   },
   "source": [
    "## Documentación & SymPy Live Shell"
   ]
  },
  {
   "cell_type": "markdown",
   "metadata": {
    "id": "EpW0OawV6Qef"
   },
   "source": [
    "[Documentacion](http://docs.sympy.org/latest/index.html)\n"
   ]
  },
  {
   "cell_type": "markdown",
   "metadata": {
    "id": "BIDDrfAU6UMY"
   },
   "source": [
    "[SympyGamma](http://www.sympygamma.com/input/?i=integrate%281+%2F+%281+%2B+x^2%29%29)"
   ]
  },
  {
   "cell_type": "markdown",
   "metadata": {
    "id": "hCdf9rbqkpTP"
   },
   "source": [
    "## Creación de símbolos"
   ]
  },
  {
   "cell_type": "markdown",
   "metadata": {
    "id": "RcCnVicBkpTP"
   },
   "source": [
    "Lo primero, como siempre, es importar aquello que vayamos a necesitar:"
   ]
  },
  {
   "cell_type": "code",
   "execution_count": 2,
   "metadata": {
    "id": "UuQwn6FAkpTP"
   },
   "outputs": [],
   "source": [
    "from sympy import *"
   ]
  },
  {
   "cell_type": "code",
   "execution_count": 3,
   "metadata": {
    "id": "xqhmGApDkpTP"
   },
   "outputs": [],
   "source": [
    "init_printing(use_latex=True)"
   ]
  },
  {
   "cell_type": "markdown",
   "metadata": {
    "id": "RNfK03CpkpTP"
   },
   "source": [
    "\n",
    "\n",
    "* Gracias a `use_latex=True` obtenemos la salida en $\\LaTeX$.\n",
    "* __Ha creado una serie de variables__ para que podamos ponernos a trabajar en el momento."
   ]
  },
  {
   "cell_type": "markdown",
   "metadata": {
    "id": "0Z-90VJ2kpTQ"
   },
   "source": [
    "<div class=\"alert warning-info\"><strong>Nota:</strong> \n",
    "En Python, no se declaran las variables, sin embargo, no puedes usar una hasta que no le hayas asignado un valor. Si ahora intentamos crear una variable `a` que sea `a = 2 * b`, veamos qué ocurre:\n",
    "</div>"
   ]
  },
  {
   "cell_type": "code",
   "execution_count": 4,
   "metadata": {
    "id": "yWZxEOeykpTQ"
   },
   "outputs": [
    {
     "data": {
      "image/png": "[encoded data removed]",
      "text/latex": [
       "$\\displaystyle a$"
      ],
      "text/plain": [
       "a"
      ]
     },
     "execution_count": 4,
     "metadata": {},
     "output_type": "execute_result"
    }
   ],
   "source": [
    "# Intentamos usar un símbolo que no hemos creado\n",
    "a = 2 * b"
   ]
  },
  {
   "cell_type": "markdown",
   "metadata": {
    "id": "wJE3VKskkpTQ"
   },
   "source": [
    "Como en `b` no había sido creada, Python no sabe qué es `b`.\n",
    "\n",
    "Esto mismo nos ocurre con los símbolos de SymPy. __Antes de usar una variable, debo decir que es un símbolo y asignárselo:__"
   ]
  },
  {
   "cell_type": "code",
   "execution_count": 5,
   "metadata": {
    "id": "Z7ZbDf9skpTQ"
   },
   "outputs": [
    {
     "data": {
      "image/png": "[encoded data removed]",
      "text/latex": [
       "$\\displaystyle a$"
      ],
      "text/plain": [
       "a"
      ]
     },
     "execution_count": 5,
     "metadata": {},
     "output_type": "execute_result"
    }
   ],
   "source": [
    "# Creamos el símbolo a\n",
    "a = symbols('a')\n",
    "a"
   ]
  },
  {
   "cell_type": "code",
   "execution_count": null,
   "metadata": {
    "id": "TIqEfQAl6gpJ"
   },
   "outputs": [],
   "source": []
  },
  {
   "cell_type": "code",
   "execution_count": 6,
   "metadata": {
    "id": "nfE2NJStkpTQ"
   },
   "outputs": [
    {
     "data": {
      "image/png": "[encoded data removed]",
      "text/latex": [
       "$\\displaystyle \\left(a + \\pi\\right)^{2}$"
      ],
      "text/plain": [
       "       2\n",
       "(a + π) "
      ]
     },
     "execution_count": 6,
     "metadata": {},
     "output_type": "execute_result"
    }
   ],
   "source": [
    "# Número pi\n",
    "(a + pi)**2"
   ]
  },
  {
   "cell_type": "code",
   "execution_count": 7,
   "metadata": {
    "id": "salOkxLikpTQ"
   },
   "outputs": [
    {
     "data": {
      "image/png": "[encoded data removed]",
      "text/latex": [
       "$\\displaystyle 1 + 2 i$"
      ],
      "text/plain": [
       "1 + 2⋅ⅈ"
      ]
     },
     "execution_count": 7,
     "metadata": {},
     "output_type": "execute_result"
    }
   ],
   "source": [
    "# Unidad imaginaria\n",
    "1 + 2*I"
   ]
  },
  {
   "cell_type": "code",
   "execution_count": 8,
   "metadata": {
    "id": "wzoHnQnHkpTQ"
   },
   "outputs": [
    {
     "data": {
      "image/png": "[encoded data removed]",
      "text/latex": [
       "$\\displaystyle e^{2}$"
      ],
      "text/plain": [
       " 2\n",
       "ℯ "
      ]
     },
     "execution_count": 8,
     "metadata": {},
     "output_type": "execute_result"
    }
   ],
   "source": [
    "# Número e\n",
    "E**2"
   ]
  },
  {
   "cell_type": "code",
   "execution_count": 9,
   "metadata": {
    "id": "xL_K70xhkpTQ"
   },
   "outputs": [
    {
     "data": {
      "text/plain": [
       "sympy.core.symbol.Symbol"
      ]
     },
     "execution_count": 9,
     "metadata": {},
     "output_type": "execute_result"
    }
   ],
   "source": [
    "# Vemos qué tipo de variable es a\n",
    "type(a)"
   ]
  },
  {
   "cell_type": "markdown",
   "metadata": {
    "id": "R8sLWP27kpTQ"
   },
   "source": [
    "Ahora ya podría crear `b = 2 * a`:"
   ]
  },
  {
   "cell_type": "code",
   "execution_count": 12,
   "metadata": {
    "id": "YnXIB320kpTQ"
   },
   "outputs": [
    {
     "data": {
      "image/png": "[encoded data removed]",
      "text/latex": [
       "$\\displaystyle 2 a$"
      ],
      "text/plain": [
       "2⋅a"
      ]
     },
     "execution_count": 12,
     "metadata": {},
     "output_type": "execute_result"
    }
   ],
   "source": [
    "b = 2 * a\n",
    "b"
   ]
  },
  {
   "cell_type": "code",
   "execution_count": null,
   "metadata": {
    "id": "rIJ4VyLxkpTQ"
   },
   "outputs": [],
   "source": []
  },
  {
   "cell_type": "markdown",
   "metadata": {
    "id": "GefEPxKVkpTQ"
   },
   "source": [
    "¿Qué está ocurriendo? Python detecta que a es una variable de tipo `Symbol` y al multiplicarla por `2` devuelve una variable de Sympy.\n",
    "\n",
    "Como Python permite que el tipo de una variable cambie, __si ahora le asigno a `a` un valor float deja de ser un símbolo.__"
   ]
  },
  {
   "cell_type": "code",
   "execution_count": 13,
   "metadata": {
    "id": "Wif5DpuSkpTQ"
   },
   "outputs": [],
   "source": [
    "b = 2.0"
   ]
  },
  {
   "cell_type": "code",
   "execution_count": 14,
   "metadata": {
    "id": "e79HvFVIkpTQ"
   },
   "outputs": [
    {
     "data": {
      "text/plain": [
       "float"
      ]
     },
     "execution_count": 14,
     "metadata": {},
     "output_type": "execute_result"
    }
   ],
   "source": [
    "type(b)"
   ]
  },
  {
   "cell_type": "markdown",
   "metadata": {
    "id": "RopYQQsYkpTQ"
   },
   "source": [
    "---\n",
    "__Las conclusiones son:__\n",
    "\n",
    "* __Si quiero usar una variable como símbolo debo crearla previamente.__\n",
    "* Las operaciones con símbolos devuelven símbolos.\n",
    "* Si una varibale que almacenaba un símbolo recibe otra asignación, cambia de tipo.\n",
    "\n",
    "---"
   ]
  },
  {
   "cell_type": "markdown",
   "metadata": {
    "id": "fqcLkUa1kpTQ"
   },
   "source": [
    "__Las variables de tipo `Symbol` actúan como contenedores en los que no sabemos qué hay (un real, un complejo, una lista...)__. Hay que tener en cuenta que: __una cosa es el nombre de la variable y otra el símbolo con el que se representa__."
   ]
  },
  {
   "cell_type": "code",
   "execution_count": 15,
   "metadata": {
    "id": "JAXkoSMDkpTQ"
   },
   "outputs": [
    {
     "data": {
      "image/png": "[encoded data removed]",
      "text/latex": [
       "$\\displaystyle \\left( \\alpha, \\  \\beta\\right)$"
      ],
      "text/plain": [
       "(α, β)"
      ]
     },
     "execution_count": 15,
     "metadata": {},
     "output_type": "execute_result"
    }
   ],
   "source": [
    "#creación de símbolos\n",
    "alpha, beta = symbols('alpha beta')\n",
    "alpha, beta"
   ]
  },
  {
   "cell_type": "code",
   "execution_count": 17,
   "metadata": {
    "id": "Ofr_shq5kpTR"
   },
   "outputs": [
    {
     "data": {
      "image/png": "[encoded data removed]",
      "text/latex": [
       "$\\displaystyle c_{T}$"
      ],
      "text/plain": [
       "c_T"
      ]
     },
     "execution_count": 17,
     "metadata": {},
     "output_type": "execute_result"
    }
   ],
   "source": [
    "c_T = symbols('c_T')\n",
    "c_T"
   ]
  },
  {
   "cell_type": "markdown",
   "metadata": {
    "id": "yXIr2244kpTR"
   },
   "source": [
    "Incluso puedo hacer cosas raras como:"
   ]
  },
  {
   "cell_type": "code",
   "execution_count": 16,
   "metadata": {
    "id": "C4eqHTTckpTR"
   },
   "outputs": [
    {
     "data": {
      "image/png": "[encoded data removed]",
      "text/latex": [
       "$\\displaystyle d$"
      ],
      "text/plain": [
       "d"
      ]
     },
     "execution_count": 16,
     "metadata": {},
     "output_type": "execute_result"
    }
   ],
   "source": [
    "# Diferencia entre variable y símbolo\n",
    "b = symbols('d')\n",
    "b"
   ]
  },
  {
   "cell_type": "markdown",
   "metadata": {
    "id": "cc_ME8DzkpTR"
   },
   "source": [
    "Además, se pueden crear varos símbolos a la vez:"
   ]
  },
  {
   "cell_type": "code",
   "execution_count": 19,
   "metadata": {
    "id": "KWih_r3tkpTR"
   },
   "outputs": [
    {
     "data": {
      "image/png": "[encoded data removed]",
      "text/latex": [
       "$\\displaystyle \\left( z, \\  y, \\  z, \\  t\\right)$"
      ],
      "text/plain": [
       "(z, y, z, t)"
      ]
     },
     "execution_count": 19,
     "metadata": {},
     "output_type": "execute_result"
    }
   ],
   "source": [
    "x, y,x, t = symbols('x y z t')\n",
    "x, y,x, t"
   ]
  },
  {
   "cell_type": "markdown",
   "metadata": {
    "id": "dATmIlE7kpTR"
   },
   "source": [
    "y símbolos griegos:"
   ]
  },
  {
   "cell_type": "code",
   "execution_count": null,
   "metadata": {
    "id": "I_bAz-d4kpTR"
   },
   "outputs": [],
   "source": []
  },
  {
   "cell_type": "markdown",
   "metadata": {
    "id": "ED1DOyABkpTR"
   },
   "source": [
    "__Por defecto, SymPy entiende que los símbolos son números complejos__. Esto puede producir resultados inesperados ante determinadas operaciones como, por ejemplo, lo logaritmos. __Podemos indicar que la variable es real, entera... en el momento de la creación__:"
   ]
  },
  {
   "cell_type": "code",
   "execution_count": 35,
   "metadata": {
    "id": "iQWQlHGRkpTR"
   },
   "outputs": [],
   "source": [
    "# Creamos símbolos reales\n",
    "x, y,z, t = symbols('x y z t')"
   ]
  },
  {
   "cell_type": "code",
   "execution_count": 21,
   "metadata": {
    "id": "dcu23mqUkpTR"
   },
   "outputs": [
    {
     "data": {
      "text/plain": [
       "{'commutative': True}"
      ]
     },
     "execution_count": 21,
     "metadata": {},
     "output_type": "execute_result"
    }
   ],
   "source": [
    "# restricciones sobre el simbolo\n",
    "x.assumptions0"
   ]
  },
  {
   "cell_type": "code",
   "execution_count": 41,
   "metadata": {
    "id": "IHNbi5PrkpTR"
   },
   "outputs": [],
   "source": [
    "# Podemos ver las asunciones de un símbolo\n",
    "x = symbols('x', real=True, positive=True)"
   ]
  },
  {
   "cell_type": "code",
   "execution_count": 29,
   "metadata": {
    "id": "IogZdRXXkpTR"
   },
   "outputs": [
    {
     "data": {
      "text/plain": [
       "{'real': True,\n",
       " 'complex': True,\n",
       " 'imaginary': False,\n",
       " 'extended_real': True,\n",
       " 'finite': True,\n",
       " 'infinite': False,\n",
       " 'commutative': True,\n",
       " 'hermitian': True,\n",
       " 'positive': True,\n",
       " 'extended_nonzero': True,\n",
       " 'nonnegative': True,\n",
       " 'nonzero': True,\n",
       " 'zero': False,\n",
       " 'extended_nonpositive': False,\n",
       " 'nonpositive': False,\n",
       " 'extended_negative': False,\n",
       " 'extended_positive': True,\n",
       " 'extended_nonnegative': True,\n",
       " 'negative': False}"
      ]
     },
     "execution_count": 29,
     "metadata": {},
     "output_type": "execute_result"
    }
   ],
   "source": [
    "x.assumptions0\n"
   ]
  },
  {
   "cell_type": "markdown",
   "metadata": {
    "id": "X8eUtCackpTR"
   },
   "source": [
    "## Expresiones"
   ]
  },
  {
   "cell_type": "markdown",
   "metadata": {
    "id": "4I7ioi-MkpTR"
   },
   "source": [
    "Comencemos por crear una expresión como: $\\cos(x)^2+\\sin(x)^2$"
   ]
  },
  {
   "cell_type": "code",
   "execution_count": 22,
   "metadata": {
    "id": "dWQXUtc4kpTR"
   },
   "outputs": [
    {
     "data": {
      "image/png": "[encoded data removed]",
      "text/latex": [
       "$\\displaystyle \\sin^{2}{\\left(z \\right)} + \\cos^{2}{\\left(z \\right)}$"
      ],
      "text/plain": [
       "   2         2   \n",
       "sin (z) + cos (z)"
      ]
     },
     "execution_count": 22,
     "metadata": {},
     "output_type": "execute_result"
    }
   ],
   "source": [
    "cos(x)**2 + sin(x)**2"
   ]
  },
  {
   "cell_type": "markdown",
   "metadata": {
    "id": "9UTwgr-fkpTR"
   },
   "source": [
    "### `simplify()`"
   ]
  },
  {
   "cell_type": "markdown",
   "metadata": {
    "id": "HG0VG6x5kpTR"
   },
   "source": [
    "Podemos pedirle que simplifique la expresión anterior:"
   ]
  },
  {
   "cell_type": "code",
   "execution_count": 31,
   "metadata": {
    "id": "6wN3tH7dkpTR"
   },
   "outputs": [
    {
     "data": {
      "image/png": "[encoded data removed]",
      "text/latex": [
       "$\\displaystyle 1$"
      ],
      "text/plain": [
       "1"
      ]
     },
     "execution_count": 31,
     "metadata": {},
     "output_type": "execute_result"
    }
   ],
   "source": [
    "simplify(_22)"
   ]
  },
  {
   "cell_type": "code",
   "execution_count": 36,
   "metadata": {
    "id": "saA_MNbHmQQy"
   },
   "outputs": [
    {
     "data": {
      "image/png": "[encoded data removed]",
      "text/latex": [
       "$\\displaystyle \\sqrt{z^{2}}$"
      ],
      "text/plain": [
       "   ____\n",
       "  ╱  2 \n",
       "╲╱  z  "
      ]
     },
     "execution_count": 36,
     "metadata": {},
     "output_type": "execute_result"
    }
   ],
   "source": [
    "sqrt(z**2)"
   ]
  },
  {
   "cell_type": "code",
   "execution_count": 37,
   "metadata": {
    "id": "YwADojoXmpw7"
   },
   "outputs": [
    {
     "data": {
      "image/png": "[encoded data removed]",
      "text/latex": [
       "$\\displaystyle \\sqrt{z^{2}}$"
      ],
      "text/plain": [
       "   ____\n",
       "  ╱  2 \n",
       "╲╱  z  "
      ]
     },
     "execution_count": 37,
     "metadata": {},
     "output_type": "execute_result"
    }
   ],
   "source": [
    "simplify(_33)"
   ]
  },
  {
   "cell_type": "code",
   "execution_count": 38,
   "metadata": {
    "id": "c6WzaIPdm5QH"
   },
   "outputs": [],
   "source": [
    "y = symbols('y', real=True)"
   ]
  },
  {
   "cell_type": "code",
   "execution_count": 39,
   "metadata": {
    "id": "YTA1rkWanD1I"
   },
   "outputs": [
    {
     "data": {
      "image/png": "[encoded data removed]",
      "text/latex": [
       "$\\displaystyle \\left|{y}\\right|$"
      ],
      "text/plain": [
       "│y│"
      ]
     },
     "execution_count": 39,
     "metadata": {},
     "output_type": "execute_result"
    }
   ],
   "source": [
    "simplify(sqrt(y**2))"
   ]
  },
  {
   "cell_type": "code",
   "execution_count": 42,
   "metadata": {},
   "outputs": [
    {
     "data": {
      "image/png": "[encoded data removed]",
      "text/latex": [
       "$\\displaystyle x$"
      ],
      "text/plain": [
       "x"
      ]
     },
     "execution_count": 42,
     "metadata": {},
     "output_type": "execute_result"
    }
   ],
   "source": [
    "simplify(sqrt(x**2))"
   ]
  },
  {
   "cell_type": "markdown",
   "metadata": {
    "id": "hNRL9vKckpTR"
   },
   "source": [
    "En este caso parece estar claro lo que quiere decir más simple, pero como en cualquier _CAS_ el comando `simplify` puede no devolvernos la expresión que nosotros queremos. Cuando esto ocurra necesitaremos usar otras instrucciones."
   ]
  },
  {
   "cell_type": "markdown",
   "metadata": {
    "id": "e_SG9yVRkpTR"
   },
   "source": [
    "### `.subs()`"
   ]
  },
  {
   "cell_type": "markdown",
   "metadata": {
    "id": "TiD2de7ikpTR"
   },
   "source": [
    "En algunas ocasiones necesitaremos sustituir una variable por otra, por otra expresión o por un valor."
   ]
  },
  {
   "cell_type": "code",
   "execution_count": 43,
   "metadata": {
    "id": "4pnENGY_kpTR"
   },
   "outputs": [
    {
     "data": {
      "image/png": "[encoded data removed]",
      "text/latex": [
       "$\\displaystyle \\sin^{2}{\\left(x^{2} + 1 \\right)} + \\cos^{2}{\\left(x^{2} + 1 \\right)}$"
      ],
      "text/plain": [
       "   2⎛ 2    ⎞      2⎛ 2    ⎞\n",
       "sin ⎝x  + 1⎠ + cos ⎝x  + 1⎠"
      ]
     },
     "execution_count": 43,
     "metadata": {},
     "output_type": "execute_result"
    }
   ],
   "source": [
    "_22.subs(z, 1+x**2)"
   ]
  },
  {
   "cell_type": "code",
   "execution_count": 44,
   "metadata": {
    "id": "HbHY-QYJkpTR"
   },
   "outputs": [
    {
     "data": {
      "image/png": "[encoded data removed]",
      "text/latex": [
       "$\\displaystyle \\sin^{2}{\\left(z + 1 \\right)} + \\cos^{2}{\\left(z - 1 \\right)}$"
      ],
      "text/plain": [
       "   2             2       \n",
       "sin (z + 1) + cos (z - 1)"
      ]
     },
     "execution_count": 44,
     "metadata": {},
     "output_type": "execute_result"
    }
   ],
   "source": [
    "(sin(x)**2 + cos(y)**2).subs({x: 1+z, y: 1-z})"
   ]
  },
  {
   "cell_type": "code",
   "execution_count": null,
   "metadata": {
    "id": "PhlmzO5PkpTR"
   },
   "outputs": [],
   "source": [
    "# ¡Pero la expresión no cambia!\n"
   ]
  },
  {
   "cell_type": "code",
   "execution_count": null,
   "metadata": {
    "id": "PeVmVpwCkpTR"
   },
   "outputs": [],
   "source": [
    "# Para que cambie\n"
   ]
  },
  {
   "cell_type": "markdown",
   "metadata": {
    "id": "2w4PhqqXkpTR"
   },
   "source": [
    "Cambia el `sin(x)` por `exp(x)`"
   ]
  },
  {
   "cell_type": "code",
   "execution_count": 46,
   "metadata": {
    "id": "IgSrVwE1kpTR"
   },
   "outputs": [
    {
     "data": {
      "image/png": "[encoded data removed]",
      "text/latex": [
       "$\\displaystyle e^{x}$"
      ],
      "text/plain": [
       " x\n",
       "ℯ "
      ]
     },
     "execution_count": 46,
     "metadata": {},
     "output_type": "execute_result"
    }
   ],
   "source": [
    "sin(x).replace(sin, exp)"
   ]
  },
  {
   "cell_type": "markdown",
   "metadata": {
    "id": "x2_I1IhSkpTR"
   },
   "source": [
    "Particulariza la expresión $sin(x) + 3 x $ en $x = \\pi$"
   ]
  },
  {
   "cell_type": "code",
   "execution_count": 48,
   "metadata": {
    "id": "Yw-YmHu5kpTR"
   },
   "outputs": [
    {
     "data": {
      "image/png": "[encoded data removed]",
      "text/latex": [
       "$\\displaystyle 3 \\pi$"
      ],
      "text/plain": [
       "3⋅π"
      ]
     },
     "execution_count": 48,
     "metadata": {},
     "output_type": "execute_result"
    }
   ],
   "source": [
    "(sin(x)+3*x).subs(x, pi)"
   ]
  },
  {
   "cell_type": "markdown",
   "metadata": {
    "id": "JkUKUFWZkpTR"
   },
   "source": [
    "__Aunque si lo que queremos es obtener el valor numérico lo mejor es `.evalf()`__"
   ]
  },
  {
   "cell_type": "code",
   "execution_count": 49,
   "metadata": {
    "id": "vJ2c8V_akpTR"
   },
   "outputs": [
    {
     "data": {
      "image/png": "[encoded data removed]",
      "text/latex": [
       "$\\displaystyle 9.42477796076938$"
      ],
      "text/plain": [
       "9.42477796076938"
      ]
     },
     "execution_count": 49,
     "metadata": {},
     "output_type": "execute_result"
    }
   ],
   "source": [
    "_48.evalf()"
   ]
  },
  {
   "cell_type": "code",
   "execution_count": 51,
   "metadata": {
    "id": "UGsp2vCUoPXT"
   },
   "outputs": [
    {
     "data": {
      "image/png": "[encoded data removed]",
      "text/latex": [
       "$\\displaystyle 9.4247779607693797153879$"
      ],
      "text/plain": [
       "9.4247779607693797153879"
      ]
     },
     "execution_count": 51,
     "metadata": {},
     "output_type": "execute_result"
    }
   ],
   "source": [
    "_48.evalf(n=23)"
   ]
  },
  {
   "cell_type": "code",
   "execution_count": null,
   "metadata": {
    "id": "bul1UzyLkpTR"
   },
   "outputs": [],
   "source": [
    "#ver pi con 25 decimales\n"
   ]
  },
  {
   "cell_type": "code",
   "execution_count": 53,
   "metadata": {
    "id": "ZzMnBw11kpTR"
   },
   "outputs": [
    {
     "data": {
      "image/png": "[encoded data removed]",
      "text/latex": [
       "$\\displaystyle 9.42477796076938$"
      ],
      "text/plain": [
       "9.42477796076938"
      ]
     },
     "execution_count": 53,
     "metadata": {},
     "output_type": "execute_result"
    }
   ],
   "source": [
    "#el mismo resultado se obtiene ocn la función N()\n",
    "N(_48)"
   ]
  },
  {
   "cell_type": "markdown",
   "metadata": {
    "id": "g2RsXRnokpTR"
   },
   "source": [
    "# Simplificación"
   ]
  },
  {
   "cell_type": "markdown",
   "metadata": {
    "id": "-rJKXrIzkpTR"
   },
   "source": [
    "SymPy ofrece numerosas funciones para __simplificar y manipular expresiones__. Entre otras, destacan:\n",
    "\n",
    "* `expand()`\n",
    "* `factor()`\n",
    "* `collect()`\n",
    "* `apart()`\n",
    "* `cancel()`\n",
    "\n",
    "Puedes consultar en la documentación de SymPy lo que hace cada una y algunos ejemplos. __Existen también funciones específicas de simplificación para funciones trigonométricas, potencias y logaritmos.__ Abre [esta documentación](http://docs.sympy.org/latest/tutorial/simplification.html) si lo necesitas."
   ]
  },
  {
   "cell_type": "markdown",
   "metadata": {
    "id": "DS74H4zhkpTS"
   },
   "source": [
    "##### ¡Te toca!"
   ]
  },
  {
   "cell_type": "markdown",
   "metadata": {
    "id": "j5LFUTRCkpTS"
   },
   "source": [
    "Pasaremos rápidamente por esta parte, para hacer cosas \"más interesantes\". Te proponemos algunos ejemplos para que te familiarices con el manejor de expresiones:"
   ]
  },
  {
   "cell_type": "markdown",
   "metadata": {
    "id": "LOBMjANgkpTS"
   },
   "source": [
    "__Crea las expresiones de la izquierda y averigua qué función te hace obtener la de la derecha:__\n",
    "\n",
    "expresión 1| expresión 2\n",
    ":------:|:------:\n",
    "$\\left(x^{3} + 3 y + 2\\right)^{2}$    |    $x^{6} + 6 x^{3} y + 4 x^{3} + 9 y^{2} + 12 y + 4$\n",
    "$\\frac{\\left(3 x^{2} - 2 x + 1\\right)}{\\left(x - 1\\right)^{2}} $ | $3 + \\frac{4}{x - 1} + \\frac{2}{\\left(x - 1\\right)^{2}}$\n",
    "$x^{3} + 9 x^{2} + 27 x + 27$         |    $\\left(x + 3\\right)^{3}$\n",
    "$\\sin(x+2y)$                          |    $\\left(2 \\cos^{2}{\\left (y \\right )} - 1\\right) \\sin{\\left (x \\right )} + 2 \\sin{\\left (y \\right )} \\cos{\\left (x \\right )} \\cos{\\left (y \\right )}$\n"
   ]
  },
  {
   "cell_type": "code",
   "execution_count": 54,
   "metadata": {
    "id": "43R4FRnbrXkI"
   },
   "outputs": [],
   "source": [
    "x, y = symbols('x y')"
   ]
  },
  {
   "cell_type": "code",
   "execution_count": 56,
   "metadata": {
    "id": "C9a19HEekpTS"
   },
   "outputs": [
    {
     "data": {
      "image/png": "[encoded data removed]",
      "text/latex": [
       "$\\displaystyle \\left(x^{3} + 3 y + 2\\right)^{2}$"
      ],
      "text/plain": [
       "              2\n",
       "⎛ 3          ⎞ \n",
       "⎝x  + 3⋅y + 2⎠ "
      ]
     },
     "execution_count": 56,
     "metadata": {},
     "output_type": "execute_result"
    }
   ],
   "source": [
    "#1\n",
    "(x**3 +3*y+2)**2"
   ]
  },
  {
   "cell_type": "code",
   "execution_count": 58,
   "metadata": {
    "id": "aWqFzhC5kpTS"
   },
   "outputs": [
    {
     "data": {
      "image/png": "[encoded data removed]",
      "text/latex": [
       "$\\displaystyle x^{6} + 6 x^{3} y + 4 x^{3} + 9 y^{2} + 12 y + 4$"
      ],
      "text/plain": [
       " 6      3        3      2           \n",
       "x  + 6⋅x ⋅y + 4⋅x  + 9⋅y  + 12⋅y + 4"
      ]
     },
     "execution_count": 58,
     "metadata": {},
     "output_type": "execute_result"
    }
   ],
   "source": [
    "expand(_56)"
   ]
  },
  {
   "cell_type": "code",
   "execution_count": 60,
   "metadata": {
    "id": "ub0Gh3dLrokB"
   },
   "outputs": [
    {
     "data": {
      "image/png": "[encoded data removed]",
      "text/latex": [
       "$\\displaystyle \\frac{3 x^{2} - 2 x + 1}{\\left(x - 1\\right)^{2}}$"
      ],
      "text/plain": [
       "   2          \n",
       "3⋅x  - 2⋅x + 1\n",
       "──────────────\n",
       "          2   \n",
       "   (x - 1)    "
      ]
     },
     "execution_count": 60,
     "metadata": {},
     "output_type": "execute_result"
    }
   ],
   "source": [
    "(3*x**2-2*x+1)/(x-1)**2"
   ]
  },
  {
   "cell_type": "code",
   "execution_count": 63,
   "metadata": {
    "id": "Zpe4vmM1kpTS"
   },
   "outputs": [
    {
     "data": {
      "image/png": "[encoded data removed]",
      "text/latex": [
       "$\\displaystyle 3 + \\frac{4}{x - 1} + \\frac{2}{\\left(x - 1\\right)^{2}}$"
      ],
      "text/plain": [
       "      4        2    \n",
       "3 + ───── + ────────\n",
       "    x - 1          2\n",
       "            (x - 1) "
      ]
     },
     "execution_count": 63,
     "metadata": {},
     "output_type": "execute_result"
    }
   ],
   "source": [
    "#2\n",
    "apart(_60)"
   ]
  },
  {
   "cell_type": "code",
   "execution_count": null,
   "metadata": {
    "id": "_m6PBjtLkpTS"
   },
   "outputs": [],
   "source": []
  },
  {
   "cell_type": "code",
   "execution_count": null,
   "metadata": {
    "id": "cYAR-1lnsFWA"
   },
   "outputs": [],
   "source": []
  },
  {
   "cell_type": "code",
   "execution_count": 64,
   "metadata": {
    "id": "eOQRr5mUkpTS"
   },
   "outputs": [
    {
     "data": {
      "image/png": "[encoded data removed]",
      "text/latex": [
       "$\\displaystyle x^{3} + 9 x^{2} + 27 x + 27$"
      ],
      "text/plain": [
       " 3      2            \n",
       "x  + 9⋅x  + 27⋅x + 27"
      ]
     },
     "execution_count": 64,
     "metadata": {},
     "output_type": "execute_result"
    }
   ],
   "source": [
    "#3\n",
    "x**3+9*x**2+27*x+27"
   ]
  },
  {
   "cell_type": "code",
   "execution_count": 65,
   "metadata": {
    "id": "roMLUVATscPV"
   },
   "outputs": [
    {
     "data": {
      "image/png": "[encoded data removed]",
      "text/latex": [
       "$\\displaystyle \\left(x + 3\\right)^{3}$"
      ],
      "text/plain": [
       "       3\n",
       "(x + 3) "
      ]
     },
     "execution_count": 65,
     "metadata": {},
     "output_type": "execute_result"
    }
   ],
   "source": [
    "factor(_64)"
   ]
  },
  {
   "cell_type": "code",
   "execution_count": null,
   "metadata": {
    "id": "EI9vtGtrkpTS"
   },
   "outputs": [],
   "source": []
  },
  {
   "cell_type": "code",
   "execution_count": 66,
   "metadata": {
    "id": "HtC-o1oQkpTS"
   },
   "outputs": [
    {
     "data": {
      "image/png": "[encoded data removed]",
      "text/latex": [
       "$\\displaystyle \\sin{\\left(x + 2 y \\right)}$"
      ],
      "text/plain": [
       "sin(x + 2⋅y)"
      ]
     },
     "execution_count": 66,
     "metadata": {},
     "output_type": "execute_result"
    }
   ],
   "source": [
    "#4\n",
    "sin(x+2*y)"
   ]
  },
  {
   "cell_type": "code",
   "execution_count": 67,
   "metadata": {
    "id": "NgoF60dXsoBG"
   },
   "outputs": [
    {
     "data": {
      "image/png": "[encoded data removed]",
      "text/latex": [
       "$\\displaystyle 2 \\sin{\\left(x \\right)} \\cos^{2}{\\left(y \\right)} - \\sin{\\left(x \\right)} + 2 \\sin{\\left(y \\right)} \\cos{\\left(x \\right)} \\cos{\\left(y \\right)}$"
      ],
      "text/plain": [
       "            2                                     \n",
       "2⋅sin(x)⋅cos (y) - sin(x) + 2⋅sin(y)⋅cos(x)⋅cos(y)"
      ]
     },
     "execution_count": 67,
     "metadata": {},
     "output_type": "execute_result"
    }
   ],
   "source": [
    "expand(_66, trig=True)"
   ]
  },
  {
   "cell_type": "code",
   "execution_count": 69,
   "metadata": {
    "id": "hSTa_q4hkpTS"
   },
   "outputs": [
    {
     "data": {
      "image/png": "[encoded data removed]",
      "text/latex": [
       "$\\displaystyle \\left(2 \\cos^{2}{\\left(y \\right)} - 1\\right) \\sin{\\left(x \\right)} + 2 \\sin{\\left(y \\right)} \\cos{\\left(x \\right)} \\cos{\\left(y \\right)}$"
      ],
      "text/plain": [
       "⎛     2       ⎞                                \n",
       "⎝2⋅cos (y) - 1⎠⋅sin(x) + 2⋅sin(y)⋅cos(x)⋅cos(y)"
      ]
     },
     "execution_count": 69,
     "metadata": {},
     "output_type": "execute_result"
    }
   ],
   "source": [
    "expand_trig(_66)"
   ]
  },
  {
   "cell_type": "code",
   "execution_count": null,
   "metadata": {
    "id": "xoX8skcBkpTS"
   },
   "outputs": [],
   "source": []
  },
  {
   "cell_type": "code",
   "execution_count": null,
   "metadata": {
    "id": "xJ5ljLZzkpTS"
   },
   "outputs": [],
   "source": []
  },
  {
   "cell_type": "markdown",
   "metadata": {
    "id": "Bn1tpxStkpTS"
   },
   "source": [
    "# Derivadas e integrales"
   ]
  },
  {
   "cell_type": "markdown",
   "metadata": {
    "id": "p1B-pp7dkpTS"
   },
   "source": [
    "Puedes derivar una expresion usando el método `.diff()` y la función `dif()`"
   ]
  },
  {
   "cell_type": "code",
   "execution_count": 71,
   "metadata": {
    "id": "uubhNNjokpTS"
   },
   "outputs": [
    {
     "data": {
      "image/png": "[encoded data removed]",
      "text/latex": [
       "$\\displaystyle - \\sin{\\left(x \\right)}$"
      ],
      "text/plain": [
       "-sin(x)"
      ]
     },
     "execution_count": 71,
     "metadata": {},
     "output_type": "execute_result"
    }
   ],
   "source": [
    "#creamos una expresión\n",
    "expresion = cos(x)\n",
    "#obtenemos la derivada primera con funcion\n",
    "expresion.diff(x)"
   ]
  },
  {
   "cell_type": "code",
   "execution_count": 72,
   "metadata": {
    "id": "OdGNTjJFkpTS"
   },
   "outputs": [
    {
     "data": {
      "image/png": "[encoded data removed]",
      "text/latex": [
       "$\\displaystyle - \\sin{\\left(x \\right)}$"
      ],
      "text/plain": [
       "-sin(x)"
      ]
     },
     "execution_count": 72,
     "metadata": {},
     "output_type": "execute_result"
    }
   ],
   "source": [
    "#utilizando método\n",
    "diff(expresion,x)"
   ]
  },
  {
   "cell_type": "markdown",
   "metadata": {
    "id": "MFfbDT2ukpTS"
   },
   "source": [
    "__¿derivada tercera?__"
   ]
  },
  {
   "cell_type": "code",
   "execution_count": 73,
   "metadata": {
    "id": "Y8DRd962kpTS"
   },
   "outputs": [
    {
     "data": {
      "image/png": "[encoded data removed]",
      "text/latex": [
       "$\\displaystyle \\sin{\\left(x \\right)}$"
      ],
      "text/plain": [
       "sin(x)"
      ]
     },
     "execution_count": 73,
     "metadata": {},
     "output_type": "execute_result"
    }
   ],
   "source": [
    "diff(expresion,x, x, x)"
   ]
  },
  {
   "cell_type": "code",
   "execution_count": 74,
   "metadata": {
    "id": "HF9KyFHRkpTS"
   },
   "outputs": [
    {
     "data": {
      "image/png": "[encoded data removed]",
      "text/latex": [
       "$\\displaystyle \\sin{\\left(x \\right)}$"
      ],
      "text/plain": [
       "sin(x)"
      ]
     },
     "execution_count": 74,
     "metadata": {},
     "output_type": "execute_result"
    }
   ],
   "source": [
    "diff(expresion,x, 3)"
   ]
  },
  {
   "cell_type": "markdown",
   "metadata": {
    "id": "r_-m2wVZkpTS"
   },
   "source": [
    "__¿varias variables?__"
   ]
  },
  {
   "cell_type": "code",
   "execution_count": 75,
   "metadata": {
    "id": "PNBnm06BkpTS"
   },
   "outputs": [
    {
     "data": {
      "image/png": "[encoded data removed]",
      "text/latex": [
       "$\\displaystyle \\frac{x}{x^{2} + y^{3}} + y e^{2 x}$"
      ],
      "text/plain": [
       "   x         2⋅x\n",
       "─────── + y⋅ℯ   \n",
       " 2    3         \n",
       "x  + y          "
      ]
     },
     "execution_count": 75,
     "metadata": {},
     "output_type": "execute_result"
    }
   ],
   "source": [
    "expr = y * exp(2*x) + x / (x**2 + y**3)\n",
    "expr"
   ]
  },
  {
   "cell_type": "code",
   "execution_count": 76,
   "metadata": {
    "id": "nUuJyP36kpTS"
   },
   "outputs": [
    {
     "data": {
      "image/png": "[encoded data removed]",
      "text/latex": [
       "$\\displaystyle \\frac{72 x \\left(- \\frac{180 x^{2} y^{6}}{\\left(x^{2} + y^{3}\\right)^{3}} + \\frac{72 x^{2} y^{3}}{\\left(x^{2} + y^{3}\\right)^{2}} - \\frac{2 x^{2}}{x^{2} + y^{3}} + \\frac{54 y^{6}}{\\left(x^{2} + y^{3}\\right)^{2}} - \\frac{27 y^{3}}{x^{2} + y^{3}} + 1\\right)}{\\left(x^{2} + y^{3}\\right)^{3}}$"
      ],
      "text/plain": [
       "     ⎛       2  6         2  3         2          6           3     ⎞\n",
       "     ⎜  180⋅x ⋅y      72⋅x ⋅y       2⋅x       54⋅y        27⋅y      ⎟\n",
       "72⋅x⋅⎜- ────────── + ────────── - ─────── + ────────── - ─────── + 1⎟\n",
       "     ⎜           3            2    2    3            2    2    3    ⎟\n",
       "     ⎜  ⎛ 2    3⎞    ⎛ 2    3⎞    x  + y    ⎛ 2    3⎞    x  + y     ⎟\n",
       "     ⎝  ⎝x  + y ⎠    ⎝x  + y ⎠              ⎝x  + y ⎠               ⎠\n",
       "─────────────────────────────────────────────────────────────────────\n",
       "                                       3                             \n",
       "                              ⎛ 2    3⎞                              \n",
       "                              ⎝x  + y ⎠                              "
      ]
     },
     "execution_count": 76,
     "metadata": {},
     "output_type": "execute_result"
    }
   ],
   "source": [
    "expr.diff(x, 2, y, 3)"
   ]
  },
  {
   "cell_type": "markdown",
   "metadata": {
    "id": "nov1hvVMkpTS"
   },
   "source": [
    "__Queremos que la deje indicada__, usamos `Derivative()`"
   ]
  },
  {
   "cell_type": "code",
   "execution_count": 77,
   "metadata": {
    "id": "EIentfxBkpTS"
   },
   "outputs": [
    {
     "data": {
      "image/png": "[encoded data removed]",
      "text/latex": [
       "$\\displaystyle \\frac{\\partial}{\\partial y} \\left(\\frac{x}{x^{2} + y^{3}} + y e^{2 x}\\right)$"
      ],
      "text/plain": [
       "∂ ⎛   x         2⋅x⎞\n",
       "──⎜─────── + y⋅ℯ   ⎟\n",
       "∂y⎜ 2    3         ⎟\n",
       "  ⎝x  + y          ⎠"
      ]
     },
     "execution_count": 77,
     "metadata": {},
     "output_type": "execute_result"
    }
   ],
   "source": [
    "Derivative(expr, y)"
   ]
  },
  {
   "cell_type": "markdown",
   "metadata": {
    "id": "cW_e5c4EkpTS"
   },
   "source": [
    "__¿Será capaz SymPy de aplicar la regla de la cadena?__"
   ]
  },
  {
   "cell_type": "code",
   "execution_count": 86,
   "metadata": {
    "id": "v8DhZYK4kpTS"
   },
   "outputs": [
    {
     "data": {
      "image/png": "[encoded data removed]",
      "text/latex": [
       "$\\displaystyle F{\\left(x \\right)}$"
      ],
      "text/plain": [
       "F(x)"
      ]
     },
     "execution_count": 86,
     "metadata": {},
     "output_type": "execute_result"
    }
   ],
   "source": [
    "# Creamos una función F\n",
    "F = Function(\"F\")\n",
    "F(x)"
   ]
  },
  {
   "cell_type": "code",
   "execution_count": 87,
   "metadata": {
    "id": "N-oHwqZXkpTS"
   },
   "outputs": [
    {
     "data": {
      "image/png": "[encoded data removed]",
      "text/latex": [
       "$\\displaystyle G{\\left(x \\right)}$"
      ],
      "text/plain": [
       "G(x)"
      ]
     },
     "execution_count": 87,
     "metadata": {},
     "output_type": "execute_result"
    }
   ],
   "source": [
    "# Creamos una función G\n",
    "G =Function(\"G\")\n",
    "G(x)"
   ]
  },
  {
   "cell_type": "markdown",
   "metadata": {
    "id": "tONHnN3tkpTS"
   },
   "source": [
    "$$\\frac{d}{d x} F{\\left (G(x) \\right )} $$"
   ]
  },
  {
   "cell_type": "code",
   "execution_count": 88,
   "metadata": {
    "id": "05D0Q_hCkpTS"
   },
   "outputs": [
    {
     "data": {
      "image/png": "[encoded data removed]",
      "text/latex": [
       "$\\displaystyle \\frac{d}{d G{\\left(x \\right)}} F{\\left(G{\\left(x \\right)} \\right)} \\frac{d}{d x} G{\\left(x \\right)}$"
      ],
      "text/plain": [
       "  d            d       \n",
       "─────(F(G(x)))⋅──(G(x))\n",
       "dG(x)          dx      "
      ]
     },
     "execution_count": 88,
     "metadata": {},
     "output_type": "execute_result"
    }
   ],
   "source": [
    "# Derivamos la función compuesta F(G(x))\n",
    "F(G(x)).diff(x)"
   ]
  },
  {
   "cell_type": "markdown",
   "metadata": {
    "id": "m3P8gADvkpTS"
   },
   "source": [
    "En un caso en el que conocemos las funciones:"
   ]
  },
  {
   "cell_type": "code",
   "execution_count": 89,
   "metadata": {
    "id": "vTvmSlEhkpTS"
   },
   "outputs": [],
   "source": [
    "# definimos una f\n",
    "f = 3 * x +cos(y)"
   ]
  },
  {
   "cell_type": "code",
   "execution_count": 90,
   "metadata": {
    "id": "t7RvMhXKkpTS"
   },
   "outputs": [
    {
     "data": {
      "image/png": "[encoded data removed]",
      "text/latex": [
       "$\\displaystyle \\frac{3}{3 x + \\cos{\\left(y \\right)}}$"
      ],
      "text/plain": [
       "     3      \n",
       "────────────\n",
       "3⋅x + cos(y)"
      ]
     },
     "execution_count": 90,
     "metadata": {},
     "output_type": "execute_result"
    }
   ],
   "source": [
    "# definimos una g(f)\n",
    "g = 3 / f\n",
    "g"
   ]
  },
  {
   "cell_type": "code",
   "execution_count": 91,
   "metadata": {
    "id": "GaPyR_vskpTS"
   },
   "outputs": [
    {
     "data": {
      "image/png": "[encoded data removed]",
      "text/latex": [
       "$\\displaystyle - \\frac{9}{\\left(3 x + \\cos{\\left(y \\right)}\\right)^{2}}$"
      ],
      "text/plain": [
       "      -9       \n",
       "───────────────\n",
       "              2\n",
       "(3⋅x + cos(y)) "
      ]
     },
     "execution_count": 91,
     "metadata": {},
     "output_type": "execute_result"
    }
   ],
   "source": [
    "#la derivamos\n",
    "g.diff(x)"
   ]
  },
  {
   "cell_type": "markdown",
   "metadata": {
    "id": "2fsYejWRkpTS"
   },
   "source": [
    "##### Te toca integrar"
   ]
  },
  {
   "cell_type": "markdown",
   "metadata": {
    "id": "RvdFFAsZkpTS"
   },
   "source": [
    "__Si te digo que se integra usando el método `.integrate()` o la función `integrate()`__. ¿Te atreves a integrar estas casi inmediatas...?:\n",
    "\n",
    "$$\\int{\\cos(x)^2}dx$$\n",
    "$$\\int{\\frac{dx}{\\sin(x)}}$$\n",
    "$$\\int{\\frac{dx}{(x^2+a^2)^2}}$$\n",
    "\n"
   ]
  },
  {
   "cell_type": "code",
   "execution_count": 102,
   "metadata": {
    "id": "uPaMmDCNkpTS"
   },
   "outputs": [
    {
     "data": {
      "image/png": "[encoded data removed]",
      "text/latex": [
       "$\\displaystyle \\frac{x}{2} + \\frac{\\sin{\\left(x \\right)} \\cos{\\left(x \\right)}}{2}$"
      ],
      "text/plain": [
       "x   sin(x)⋅cos(x)\n",
       "─ + ─────────────\n",
       "2         2      "
      ]
     },
     "execution_count": 102,
     "metadata": {},
     "output_type": "execute_result"
    }
   ],
   "source": [
    "integrate(cos(x)**2, x)"
   ]
  },
  {
   "cell_type": "code",
   "execution_count": 104,
   "metadata": {
    "id": "Jcm95_NqkpTS"
   },
   "outputs": [
    {
     "data": {
      "image/png": "[encoded data removed]",
      "text/latex": [
       "$\\displaystyle \\frac{\\log{\\left(\\cos{\\left(x \\right)} - 1 \\right)}}{2} - \\frac{\\log{\\left(\\cos{\\left(x \\right)} + 1 \\right)}}{2}$"
      ],
      "text/plain": [
       "log(cos(x) - 1)   log(cos(x) + 1)\n",
       "─────────────── - ───────────────\n",
       "       2                 2       "
      ]
     },
     "execution_count": 104,
     "metadata": {},
     "output_type": "execute_result"
    }
   ],
   "source": [
    "integrate(1/sin(x), x)"
   ]
  },
  {
   "cell_type": "code",
   "execution_count": 106,
   "metadata": {},
   "outputs": [
    {
     "data": {
      "image/png": "[encoded data removed]",
      "text/latex": [
       "$\\displaystyle \\frac{\\sin{\\left(1 \\right)} \\cos{\\left(1 \\right)}}{2} + \\frac{1}{2}$"
      ],
      "text/plain": [
       "sin(1)⋅cos(1)   1\n",
       "───────────── + ─\n",
       "      2         2"
      ]
     },
     "execution_count": 106,
     "metadata": {},
     "output_type": "execute_result"
    }
   ],
   "source": [
    "integrate(cos(x)**2, (x, 0, 1))"
   ]
  },
  {
   "cell_type": "code",
   "execution_count": 105,
   "metadata": {
    "id": "F8N-3viSkpTT"
   },
   "outputs": [
    {
     "data": {
      "image/png": "[encoded data removed]",
      "text/latex": [
       "$\\displaystyle \\frac{x}{2 a^{4} + 2 a^{2} x^{2}} + \\frac{- \\frac{i \\log{\\left(- i a + x \\right)}}{4} + \\frac{i \\log{\\left(i a + x \\right)}}{4}}{a^{3}}$"
      ],
      "text/plain": [
       "                   ⅈ⋅log(-ⅈ⋅a + x)   ⅈ⋅log(ⅈ⋅a + x)\n",
       "                 - ─────────────── + ──────────────\n",
       "      x                   4                4       \n",
       "────────────── + ──────────────────────────────────\n",
       "   4      2  2                    3                \n",
       "2⋅a  + 2⋅a ⋅x                    a                 "
      ]
     },
     "execution_count": 105,
     "metadata": {},
     "output_type": "execute_result"
    }
   ],
   "source": [
    "integrate(1/(x**2+a**2)**2, x)"
   ]
  },
  {
   "cell_type": "markdown",
   "metadata": {
    "id": "BnYNhhEVkpTT"
   },
   "source": [
    "# Límites"
   ]
  },
  {
   "cell_type": "markdown",
   "metadata": {
    "id": "MjHRNZ_wkpTT"
   },
   "source": [
    "Calculemos este límite sacado del libro _Cálculo: definiciones, teoremas y resultados_, de Juan de Burgos:\n",
    "\n",
    "$$\\lim_{x \\to 0} \\left(\\frac{x}{\\tan{\\left (x \\right )}}\\right)^{\\frac{1}{x^{2}}}$$\n",
    "\n",
    "Primero creamos la expresión:"
   ]
  },
  {
   "cell_type": "code",
   "execution_count": 107,
   "metadata": {
    "id": "ysOZQk3ZkpTT"
   },
   "outputs": [
    {
     "data": {
      "image/png": "[encoded data removed]",
      "text/latex": [
       "$\\displaystyle \\left(\\frac{x}{\\tan{\\left(x \\right)}}\\right)^{\\frac{1}{x^{2}}}$"
      ],
      "text/plain": [
       "        1 \n",
       "        ──\n",
       "         2\n",
       "        x \n",
       "⎛  x   ⎞  \n",
       "⎜──────⎟  \n",
       "⎝tan(x)⎠  "
      ]
     },
     "execution_count": 107,
     "metadata": {},
     "output_type": "execute_result"
    }
   ],
   "source": [
    "expr = (x/tan(x))**(1/x**2)\n",
    "expr"
   ]
  },
  {
   "cell_type": "markdown",
   "metadata": {
    "id": "ml6HnEKIkpTT"
   },
   "source": [
    "Obtenemos el límite con la función `limit()` y si queremos dejarlo indicado, podemos usar `Limit()`:"
   ]
  },
  {
   "cell_type": "code",
   "execution_count": 112,
   "metadata": {
    "id": "pvNfQVt3kpTT"
   },
   "outputs": [
    {
     "data": {
      "image/png": "[encoded data removed]",
      "text/latex": [
       "$\\displaystyle e^{- \\frac{1}{3}}$"
      ],
      "text/plain": [
       " -1/3\n",
       "ℯ    "
      ]
     },
     "execution_count": 112,
     "metadata": {},
     "output_type": "execute_result"
    }
   ],
   "source": [
    "limit(expr, x, 0)"
   ]
  },
  {
   "cell_type": "code",
   "execution_count": 113,
   "metadata": {
    "id": "WLlLLqHuyYAN"
   },
   "outputs": [
    {
     "data": {
      "image/png": "[encoded data removed]",
      "text/latex": [
       "$\\displaystyle \\infty$"
      ],
      "text/plain": [
       "∞"
      ]
     },
     "execution_count": 113,
     "metadata": {},
     "output_type": "execute_result"
    }
   ],
   "source": [
    "oo"
   ]
  },
  {
   "cell_type": "code",
   "execution_count": 115,
   "metadata": {
    "id": "u508ZoydykPa"
   },
   "outputs": [
    {
     "data": {
      "image/png": "[encoded data removed]",
      "text/latex": [
       "$\\displaystyle \\lim_{x \\to \\infty} \\left(\\frac{x}{\\tan{\\left(x \\right)}}\\right)^{\\frac{1}{x^{2}}}$"
      ],
      "text/plain": [
       "            1 \n",
       "            ──\n",
       "             2\n",
       "            x \n",
       "    ⎛  x   ⎞  \n",
       "lim ⎜──────⎟  \n",
       "x─→∞⎝tan(x)⎠  "
      ]
     },
     "execution_count": 115,
     "metadata": {},
     "output_type": "execute_result"
    }
   ],
   "source": [
    "limit(expr,x, oo)"
   ]
  },
  {
   "cell_type": "code",
   "execution_count": 116,
   "metadata": {
    "id": "tpUyI5amyqww"
   },
   "outputs": [
    {
     "data": {
      "image/png": "[encoded data removed]",
      "text/latex": [
       "$\\displaystyle \\lim_{x \\to 0^+} \\left(\\frac{x}{\\tan{\\left(x \\right)}}\\right)^{\\frac{1}{x^{2}}}$"
      ],
      "text/plain": [
       "             1 \n",
       "             ──\n",
       "              2\n",
       "             x \n",
       "     ⎛  x   ⎞  \n",
       " lim ⎜──────⎟  \n",
       "x─→0⁺⎝tan(x)⎠  "
      ]
     },
     "execution_count": 116,
     "metadata": {},
     "output_type": "execute_result"
    }
   ],
   "source": [
    "# para dejar indicado\n",
    "Limit(expr, x, 0)"
   ]
  },
  {
   "cell_type": "markdown",
   "metadata": {
    "id": "9PsAKRFhkpTT"
   },
   "source": [
    "# Series"
   ]
  },
  {
   "cell_type": "markdown",
   "metadata": {
    "id": "VS-OIaU_kpTT"
   },
   "source": [
    "Los desarrollos en serie se pueden llevar a cabo con el método `.series()` o la función `series()`"
   ]
  },
  {
   "cell_type": "code",
   "execution_count": 117,
   "metadata": {
    "id": "4PTYx6mkkpTT"
   },
   "outputs": [],
   "source": [
    "#creamos la expresión\n",
    "expr = cos(x)"
   ]
  },
  {
   "cell_type": "code",
   "execution_count": 119,
   "metadata": {
    "id": "X6q-2gWYkpTT"
   },
   "outputs": [
    {
     "data": {
      "image/png": "[encoded data removed]",
      "text/latex": [
       "$\\displaystyle 1 - \\frac{x^{2}}{2} + \\frac{x^{4}}{24} + O\\left(x^{6}\\right)$"
      ],
      "text/plain": [
       "     2    4        \n",
       "    x    x     ⎛ 6⎞\n",
       "1 - ── + ── + O⎝x ⎠\n",
       "    2    24        "
      ]
     },
     "execution_count": 119,
     "metadata": {},
     "output_type": "execute_result"
    }
   ],
   "source": [
    "#la desarrollamos en serie\n",
    "expr.series(x)"
   ]
  },
  {
   "cell_type": "markdown",
   "metadata": {
    "id": "eiEQJWA9kpTT"
   },
   "source": [
    "Se puede especificar el número de términos pasándole un argumento `n=...`. El número que le pasemos será el primer término que desprecie."
   ]
  },
  {
   "cell_type": "code",
   "execution_count": 120,
   "metadata": {
    "id": "mg9wHL5lkpTT"
   },
   "outputs": [
    {
     "data": {
      "image/png": "[encoded data removed]",
      "text/latex": [
       "$\\displaystyle 1 - \\frac{x^{2}}{2} + \\frac{x^{4}}{24} - \\frac{x^{6}}{720} + \\frac{x^{8}}{40320} + O\\left(x^{10}\\right)$"
      ],
      "text/plain": [
       "     2    4     6      8          \n",
       "    x    x     x      x      ⎛ 10⎞\n",
       "1 - ── + ── - ─── + ───── + O⎝x  ⎠\n",
       "    2    24   720   40320         "
      ]
     },
     "execution_count": 120,
     "metadata": {},
     "output_type": "execute_result"
    }
   ],
   "source": [
    "# Indicando el número de términos\n",
    "expr.series(x, n=10)"
   ]
  },
  {
   "cell_type": "markdown",
   "metadata": {
    "id": "dG8e2hXXkpTT"
   },
   "source": [
    "Si nos molesta el $\\mathcal{O}(x^{10})$ lo podemos quitar con `removeO()`:"
   ]
  },
  {
   "cell_type": "code",
   "execution_count": 122,
   "metadata": {
    "id": "13IsJVZ6kpTT"
   },
   "outputs": [
    {
     "data": {
      "image/png": "[encoded data removed]",
      "text/latex": [
       "$\\displaystyle \\frac{x^{8}}{40320} - \\frac{x^{6}}{720} + \\frac{x^{4}}{24} - \\frac{x^{2}}{2} + 1$"
      ],
      "text/plain": [
       "   8      6    4    2    \n",
       "  x      x    x    x     \n",
       "───── - ─── + ── - ── + 1\n",
       "40320   720   24   2     "
      ]
     },
     "execution_count": 122,
     "metadata": {},
     "output_type": "execute_result"
    }
   ],
   "source": [
    "_120.removeO()"
   ]
  },
  {
   "cell_type": "code",
   "execution_count": 123,
   "metadata": {
    "id": "0MebbW18kpTT"
   },
   "outputs": [
    {
     "data": {
      "image/png": "[encoded data removed]",
      "text/latex": [
       "$\\displaystyle \\frac{\\pi}{2} + \\frac{\\left(x - \\frac{\\pi}{2}\\right)^{3}}{6} - \\frac{\\left(x - \\frac{\\pi}{2}\\right)^{5}}{120} + \\frac{\\left(x - \\frac{\\pi}{2}\\right)^{7}}{5040} - \\frac{\\left(x - \\frac{\\pi}{2}\\right)^{9}}{362880} + \\frac{\\left(x - \\frac{\\pi}{2}\\right)^{11}}{39916800} - \\frac{\\left(x - \\frac{\\pi}{2}\\right)^{13}}{6227020800} + \\frac{\\left(x - \\frac{\\pi}{2}\\right)^{15}}{1307674368000} - \\frac{\\left(x - \\frac{\\pi}{2}\\right)^{17}}{355687428096000} - x + O\\left(\\left(x - \\frac{\\pi}{2}\\right)^{18}; x\\rightarrow \\frac{\\pi}{2}\\right)$"
      ],
      "text/plain": [
       "           3          5          7          9          11          13         \n",
       "    ⎛    π⎞    ⎛    π⎞    ⎛    π⎞    ⎛    π⎞    ⎛    π⎞     ⎛    π⎞        ⎛  \n",
       "    ⎜x - ─⎟    ⎜x - ─⎟    ⎜x - ─⎟    ⎜x - ─⎟    ⎜x - ─⎟     ⎜x - ─⎟        ⎜x \n",
       "π   ⎝    2⎠    ⎝    2⎠    ⎝    2⎠    ⎝    2⎠    ⎝    2⎠     ⎝    2⎠        ⎝  \n",
       "─ + ──────── - ──────── + ──────── - ──────── + ───────── - ────────── + ─────\n",
       "2      6         120        5040      362880     39916800   6227020800   13076\n",
       "\n",
       "    15               17                             \n",
       "  π⎞          ⎛    π⎞                               \n",
       "- ─⎟          ⎜x - ─⎟             ⎛       18       ⎞\n",
       "  2⎠          ⎝    2⎠             ⎜⎛    π⎞        π⎟\n",
       "──────── - ─────────────── - x + O⎜⎜x - ─⎟  ; x → ─⎟\n",
       "74368000   355687428096000        ⎝⎝    2⎠        2⎠"
      ]
     },
     "execution_count": 123,
     "metadata": {},
     "output_type": "execute_result"
    }
   ],
   "source": [
    "expr.series(x, n=18, x0=pi/2)"
   ]
  },
  {
   "cell_type": "markdown",
   "metadata": {
    "id": "r1cizflkkpTT"
   },
   "source": [
    "## Resolución de ecuaciones"
   ]
  },
  {
   "cell_type": "markdown",
   "metadata": {
    "id": "Rfw_5OjIkpTT"
   },
   "source": [
    "Como se ha mencionado anteriormente las ecuaciones no se pueden crear con el `=`"
   ]
  },
  {
   "cell_type": "code",
   "execution_count": null,
   "metadata": {
    "id": "ujScBPqakpTT"
   },
   "outputs": [],
   "source": [
    "#creamos la ecuación\n",
    " a + x = cos(x)"
   ]
  },
  {
   "cell_type": "code",
   "execution_count": 124,
   "metadata": {
    "id": "rdHniRXfzlV_"
   },
   "outputs": [
    {
     "data": {
      "image/png": "[encoded data removed]",
      "text/latex": [
       "$\\displaystyle x + 1 = x^{2}$"
      ],
      "text/plain": [
       "         2\n",
       "x + 1 = x "
      ]
     },
     "execution_count": 124,
     "metadata": {},
     "output_type": "execute_result"
    }
   ],
   "source": [
    "Eq(1+x, x**2)\n"
   ]
  },
  {
   "cell_type": "code",
   "execution_count": 125,
   "metadata": {
    "id": "pcDNSL0yzqko"
   },
   "outputs": [
    {
     "data": {
      "image/png": "[encoded data removed]",
      "text/latex": [
       "$\\displaystyle - x^{2} + x + 1 = 0$"
      ],
      "text/plain": [
       "   2            \n",
       "- x  + x + 1 = 0"
      ]
     },
     "execution_count": 125,
     "metadata": {},
     "output_type": "execute_result"
    }
   ],
   "source": [
    "Eq(1+x - x**2, 0)"
   ]
  },
  {
   "cell_type": "code",
   "execution_count": 126,
   "metadata": {
    "id": "REGS9r1xkpTT"
   },
   "outputs": [
    {
     "data": {
      "image/png": "[encoded data removed]",
      "text/latex": [
       "$\\displaystyle x - \\sin{\\left(x \\right)} + 1 = 0$"
      ],
      "text/plain": [
       "x - sin(x) + 1 = 0"
      ]
     },
     "execution_count": 126,
     "metadata": {},
     "output_type": "execute_result"
    }
   ],
   "source": [
    "# También la podemos crear como\n",
    "ecuacion = Eq(1+x-sin(x), 0)\n",
    "ecuacion"
   ]
  },
  {
   "cell_type": "code",
   "execution_count": 128,
   "metadata": {},
   "outputs": [
    {
     "data": {
      "image/png": "[encoded data removed]",
      "text/latex": [
       "$\\displaystyle x^{2} + 1 = 0$"
      ],
      "text/plain": [
       " 2        \n",
       "x  + 1 = 0"
      ]
     },
     "execution_count": 128,
     "metadata": {},
     "output_type": "execute_result"
    }
   ],
   "source": [
    "ecuacion2 = Eq(x**2+1, 0)\n",
    "ecuacion2"
   ]
  },
  {
   "cell_type": "code",
   "execution_count": 129,
   "metadata": {
    "id": "vlZcjGMxkpTT"
   },
   "outputs": [
    {
     "data": {
      "image/png": "[encoded data removed]",
      "text/latex": [
       "$\\displaystyle \\left[ - i, \\  i\\right]$"
      ],
      "text/plain": [
       "[-ⅈ, ⅈ]"
      ]
     },
     "execution_count": 129,
     "metadata": {},
     "output_type": "execute_result"
    }
   ],
   "source": [
    "#la resolvemos\n",
    "sol = solve(ecuacion2, x)\n",
    "sol"
   ]
  },
  {
   "cell_type": "code",
   "execution_count": null,
   "metadata": {
    "id": "Yd_E80pQ0QfB"
   },
   "outputs": [],
   "source": []
  },
  {
   "cell_type": "markdown",
   "metadata": {
    "id": "t4PwMKS9kpTT"
   },
   "source": [
    "Pero la gracia es resolver con símbolos, ¿no?\n",
    "$$a e^{\\frac{x}{t}} = C$$"
   ]
  },
  {
   "cell_type": "code",
   "execution_count": 131,
   "metadata": {
    "id": "pHn-Qy6HkpTT"
   },
   "outputs": [
    {
     "data": {
      "image/png": "[encoded data removed]",
      "text/latex": [
       "$\\displaystyle c$"
      ],
      "text/plain": [
       "c"
      ]
     },
     "execution_count": 131,
     "metadata": {},
     "output_type": "execute_result"
    }
   ],
   "source": [
    "# Creamos los símbolos y la ecuación\n",
    "C = symbols('c')\n",
    "C"
   ]
  },
  {
   "cell_type": "code",
   "execution_count": 134,
   "metadata": {
    "id": "7Me2SL0TkpTT"
   },
   "outputs": [
    {
     "data": {
      "image/png": "[encoded data removed]",
      "text/latex": [
       "$\\displaystyle a e^{\\frac{x}{t}} = c$"
      ],
      "text/plain": [
       "   x    \n",
       "   ─    \n",
       "   t    \n",
       "a⋅ℯ  = c"
      ]
     },
     "execution_count": 134,
     "metadata": {},
     "output_type": "execute_result"
    }
   ],
   "source": [
    "# La resolvemos\n",
    "ecuacion = Eq(a*exp(x/t), C)\n",
    "ecuacion"
   ]
  },
  {
   "cell_type": "code",
   "execution_count": 135,
   "metadata": {
    "id": "HIY_4K_j0gPR"
   },
   "outputs": [
    {
     "data": {
      "image/png": "[encoded data removed]",
      "text/latex": [
       "$\\displaystyle \\left[ t \\log{\\left(\\frac{c}{a} \\right)}\\right]$"
      ],
      "text/plain": [
       "⎡     ⎛c⎞⎤\n",
       "⎢t⋅log⎜─⎟⎥\n",
       "⎣     ⎝a⎠⎦"
      ]
     },
     "execution_count": 135,
     "metadata": {},
     "output_type": "execute_result"
    }
   ],
   "source": [
    "solve(ecuacion, x)"
   ]
  },
  {
   "cell_type": "markdown",
   "metadata": {
    "id": "gE-P0wClkpTT"
   },
   "source": [
    "Si consultamos la ayuda, vemos que las posibilidades y el número de parámetros son muchos, no vamos a entrar ahora en ellos, pero ¿se ve la potencia?"
   ]
  },
  {
   "cell_type": "markdown",
   "metadata": {
    "id": "zAYriT-1kpTT"
   },
   "source": [
    "## Ecuaciones diferenciales"
   ]
  },
  {
   "cell_type": "markdown",
   "metadata": {
    "id": "a6y2uDdY1KeX"
   },
   "source": []
  },
  {
   "cell_type": "markdown",
   "metadata": {
    "id": "sKPac7g2kpTT"
   },
   "source": [
    "Tratemos de resolver, por ejemplo:\n",
    "\n",
    "$$y{\\left (x \\right )} + \\frac{d}{d x} y{\\left (x \\right )} + \\frac{d^{2}}{d x^{2}}  y{\\left (x \\right )} = \\cos{\\left (x \\right )}$$"
   ]
  },
  {
   "cell_type": "code",
   "execution_count": 136,
   "metadata": {
    "id": "pMaYz4LxkpTT"
   },
   "outputs": [
    {
     "data": {
      "text/plain": [
       "y"
      ]
     },
     "execution_count": 136,
     "metadata": {},
     "output_type": "execute_result"
    }
   ],
   "source": [
    "# solo sirve para ejemplos acádemicos sencillos \n",
    "\n",
    "y = Function('y')\n",
    "y"
   ]
  },
  {
   "cell_type": "code",
   "execution_count": 137,
   "metadata": {
    "id": "6Q8MME6U0x1n"
   },
   "outputs": [
    {
     "data": {
      "image/png": "[encoded data removed]",
      "text/latex": [
       "$\\displaystyle y{\\left(x \\right)} + \\frac{d}{d x} y{\\left(x \\right)} + \\frac{d^{2}}{d x^{2}} y{\\left(x \\right)} = \\cos{\\left(x \\right)}$"
      ],
      "text/plain": [
       "                    2               \n",
       "       d           d                \n",
       "y(x) + ──(y(x)) + ───(y(x)) = cos(x)\n",
       "       dx           2               \n",
       "                  dx                "
      ]
     },
     "execution_count": 137,
     "metadata": {},
     "output_type": "execute_result"
    }
   ],
   "source": [
    "edo = Eq(y(x) + y(x).diff(x) + y(x).diff(x, 2), cos(x))\n",
    "edo"
   ]
  },
  {
   "cell_type": "code",
   "execution_count": 138,
   "metadata": {
    "id": "D2TBcyN2kpTT"
   },
   "outputs": [
    {
     "data": {
      "image/png": "[encoded data removed]",
      "text/latex": [
       "$\\displaystyle y{\\left(x \\right)} = \\left(C_{1} \\sin{\\left(\\frac{\\sqrt{3} x}{2} \\right)} + C_{2} \\cos{\\left(\\frac{\\sqrt{3} x}{2} \\right)}\\right) e^{- \\frac{x}{2}} + \\sin{\\left(x \\right)}$"
      ],
      "text/plain": [
       "                                      -x          \n",
       "                                      ───         \n",
       "       ⎛      ⎛√3⋅x⎞         ⎛√3⋅x⎞⎞   2          \n",
       "y(x) = ⎜C₁⋅sin⎜────⎟ + C₂⋅cos⎜────⎟⎟⋅ℯ    + sin(x)\n",
       "       ⎝      ⎝ 2  ⎠         ⎝ 2  ⎠⎠              "
      ]
     },
     "execution_count": 138,
     "metadata": {},
     "output_type": "execute_result"
    }
   ],
   "source": [
    "#resolvemos\n",
    "dsolve(edo,y(x))"
   ]
  },
  {
   "cell_type": "markdown",
   "metadata": {
    "id": "NaDRI7_FkpTT"
   },
   "source": [
    "# Matrices"
   ]
  },
  {
   "cell_type": "code",
   "execution_count": 139,
   "metadata": {
    "id": "v1RIc2r_kpTT"
   },
   "outputs": [
    {
     "data": {
      "image/png": "[encoded data removed]",
      "text/latex": [
       "$\\displaystyle \\left[\\begin{matrix}a & b\\\\c & d\\end{matrix}\\right]$"
      ],
      "text/plain": [
       "⎡a  b⎤\n",
       "⎢    ⎥\n",
       "⎣c  d⎦"
      ]
     },
     "execution_count": 139,
     "metadata": {},
     "output_type": "execute_result"
    }
   ],
   "source": [
    "#creamos una matriz llena de símbolos\n",
    "a, b, c, d = symbols('a, b, c, d')\n",
    "a, b, c, d\n",
    "\n",
    "A = Matrix([\n",
    "            [a, b],\n",
    "            [c, d]\n",
    "])\n",
    "A"
   ]
  },
  {
   "cell_type": "code",
   "execution_count": 140,
   "metadata": {
    "id": "-NPm2S8ykpTT"
   },
   "outputs": [
    {
     "data": {
      "image/png": "[encoded data removed]",
      "text/latex": [
       "$\\displaystyle \\left\\{ \\frac{a}{2} + \\frac{d}{2} - \\frac{\\sqrt{a^{2} - 2 a d + 4 b c + d^{2}}}{2} : 1, \\  \\frac{a}{2} + \\frac{d}{2} + \\frac{\\sqrt{a^{2} - 2 a d + 4 b c + d^{2}}}{2} : 1\\right\\}$"
      ],
      "text/plain": [
       "⎧           _________________________                _________________________\n",
       "⎪          ╱  2                    2                ╱  2                    2 \n",
       "⎨a   d   ╲╱  a  - 2⋅a⋅d + 4⋅b⋅c + d       a   d   ╲╱  a  - 2⋅a⋅d + 4⋅b⋅c + d  \n",
       "⎪─ + ─ - ────────────────────────────: 1, ─ + ─ + ────────────────────────────\n",
       "⎩2   2                2                   2   2                2              \n",
       "\n",
       "   ⎫\n",
       "   ⎪\n",
       "   ⎬\n",
       ": 1⎪\n",
       "   ⎭"
      ]
     },
     "execution_count": 140,
     "metadata": {},
     "output_type": "execute_result"
    }
   ],
   "source": [
    "#sacamos autovalores\n",
    "A.eigenvals()\n"
   ]
  },
  {
   "cell_type": "code",
   "execution_count": 141,
   "metadata": {
    "id": "k85-w1yT2CNg"
   },
   "outputs": [
    {
     "data": {
      "image/png": "[encoded data removed]",
      "text/latex": [
       "$\\displaystyle \\left[ \\left( \\frac{a}{2} + \\frac{d}{2} - \\frac{\\sqrt{a^{2} - 2 a d + 4 b c + d^{2}}}{2}, \\  1, \\  \\left[ \\left[\\begin{matrix}- \\frac{2 b}{a - d + \\sqrt{a^{2} - 2 a d + 4 b c + d^{2}}}\\\\1\\end{matrix}\\right]\\right]\\right), \\  \\left( \\frac{a}{2} + \\frac{d}{2} + \\frac{\\sqrt{a^{2} - 2 a d + 4 b c + d^{2}}}{2}, \\  1, \\  \\left[ \\left[\\begin{matrix}- \\frac{2 b}{a - d - \\sqrt{a^{2} - 2 a d + 4 b c + d^{2}}}\\\\1\\end{matrix}\\right]\\right]\\right)\\right]$"
      ],
      "text/plain": [
       "⎡⎛           _________________________     ⎡⎡               -2⋅b              \n",
       "⎢⎜          ╱  2                    2      ⎢⎢─────────────────────────────────\n",
       "⎢⎜a   d   ╲╱  a  - 2⋅a⋅d + 4⋅b⋅c + d       ⎢⎢           ______________________\n",
       "⎢⎜─ + ─ - ────────────────────────────, 1, ⎢⎢          ╱  2                   \n",
       "⎢⎜2   2                2                   ⎢⎢a - d + ╲╱  a  - 2⋅a⋅d + 4⋅b⋅c + \n",
       "⎢⎜                                         ⎢⎢                                 \n",
       "⎣⎝                                         ⎣⎣                 1               \n",
       "\n",
       "   ⎤⎤⎞  ⎛           _________________________     ⎡⎡               -2⋅b       \n",
       "───⎥⎥⎟  ⎜          ╱  2                    2      ⎢⎢──────────────────────────\n",
       "___⎥⎥⎟  ⎜a   d   ╲╱  a  - 2⋅a⋅d + 4⋅b⋅c + d       ⎢⎢           _______________\n",
       " 2 ⎥⎥⎟, ⎜─ + ─ + ────────────────────────────, 1, ⎢⎢          ╱  2            \n",
       "d  ⎥⎥⎟  ⎜2   2                2                   ⎢⎢a - d - ╲╱  a  - 2⋅a⋅d + 4\n",
       "   ⎥⎥⎟  ⎜                                         ⎢⎢                          \n",
       "   ⎦⎦⎠  ⎝                                         ⎣⎣                 1        \n",
       "\n",
       "          ⎤⎤⎞⎤\n",
       "──────────⎥⎥⎟⎥\n",
       "__________⎥⎥⎟⎥\n",
       "        2 ⎥⎥⎟⎥\n",
       "⋅b⋅c + d  ⎥⎥⎟⎥\n",
       "          ⎥⎥⎟⎥\n",
       "          ⎦⎦⎠⎦"
      ]
     },
     "execution_count": 141,
     "metadata": {},
     "output_type": "execute_result"
    }
   ],
   "source": [
    "A.eigenvects()"
   ]
  },
  {
   "cell_type": "code",
   "execution_count": 142,
   "metadata": {
    "id": "zXbQQ4o5kpTT"
   },
   "outputs": [
    {
     "data": {
      "image/png": "[encoded data removed]",
      "text/latex": [
       "$\\displaystyle \\left[\\begin{matrix}\\frac{d}{a d - b c} & - \\frac{b}{a d - b c}\\\\- \\frac{c}{a d - b c} & \\frac{a}{a d - b c}\\end{matrix}\\right]$"
      ],
      "text/plain": [
       "⎡    d         -b    ⎤\n",
       "⎢─────────  ─────────⎥\n",
       "⎢a⋅d - b⋅c  a⋅d - b⋅c⎥\n",
       "⎢                    ⎥\n",
       "⎢   -c          a    ⎥\n",
       "⎢─────────  ─────────⎥\n",
       "⎣a⋅d - b⋅c  a⋅d - b⋅c⎦"
      ]
     },
     "execution_count": 142,
     "metadata": {},
     "output_type": "execute_result"
    }
   ],
   "source": [
    "#inversa\n",
    "A.inv()"
   ]
  },
  {
   "cell_type": "code",
   "execution_count": 143,
   "metadata": {
    "id": "_dLdV3u8kpTU"
   },
   "outputs": [
    {
     "data": {
      "image/png": "[encoded data removed]",
      "text/latex": [
       "$\\displaystyle \\left[\\begin{matrix}a^{2} + b c & a b + b d\\\\a c + c d & b c + d^{2}\\end{matrix}\\right]$"
      ],
      "text/plain": [
       "⎡ 2                  ⎤\n",
       "⎢a  + b⋅c   a⋅b + b⋅d⎥\n",
       "⎢                    ⎥\n",
       "⎢                  2 ⎥\n",
       "⎣a⋅c + c⋅d  b⋅c + d  ⎦"
      ]
     },
     "execution_count": 143,
     "metadata": {},
     "output_type": "execute_result"
    }
   ],
   "source": [
    "#elevamos al cuadrado la matriz\n",
    "A ** 2"
   ]
  },
  {
   "cell_type": "code",
   "execution_count": null,
   "metadata": {},
   "outputs": [],
   "source": []
  }
 ],
 "metadata": {
  "colab": {
   "include_colab_link": true,
   "name": "Clase7_SymPy_vacía.ipynb",
   "provenance": []
  },
  "kernelspec": {
   "display_name": "Python 3",
   "language": "python",
   "name": "python3"
  },
  "language_info": {
   "codemirror_mode": {
    "name": "ipython",
    "version": 3
   },
   "file_extension": ".py",
   "mimetype": "text/x-python",
   "name": "python",
   "nbconvert_exporter": "python",
   "pygments_lexer": "ipython3",
   "version": "3.8.5"
  }
 },
 "nbformat": 4,
 "nbformat_minor": 1
}
